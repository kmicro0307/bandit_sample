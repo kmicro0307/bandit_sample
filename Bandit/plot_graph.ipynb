{
 "cells": [
  {
   "cell_type": "code",
   "execution_count": null,
   "metadata": {
    "collapsed": true
   },
   "outputs": [],
   "source": [
    "\n"
   ]
  },
  {
   "cell_type": "code",
   "execution_count": 9,
   "metadata": {
    "collapsed": true
   },
   "outputs": [],
   "source": [
    "import pandas as pd\n",
    "import matplotlib.pyplot as plt\n",
    "plt.figure(figsize=(20, 15), dpi=50)\n",
    "\n",
    "#ファイルの読み込み。最後だけ\n",
    "st = pd.read_csv('stationary.csv')[99998:-1]\n",
    "non_st = pd.read_csv('non_stationary.csv')[99998:-1]\n",
    "# non_st_const = pd.read_csv('nonsteady_constant.csv')[99998:-1]\n",
    "# st = pd.read_csv('test.csv')[99998:-1]\n",
    "# non_st = pd.read_csv('test1.csv')[99998:-1]\n"
   ]
  },
  {
   "cell_type": "code",
   "execution_count": 7,
   "metadata": {
    "collapsed": false
   },
   "outputs": [
    {
     "name": "stdout",
     "output_type": "stream",
     "text": [
      "Empty DataFrame\nColumns: [UCB1T regret, TS regret, RS regret, RS OPT regret, TS gamma regret, RS gamma regret, RS OPT gamma regret, meta UCB1T regret, meta TS regret, meta RS regret, meta RS OPT regret]\nIndex: []\n"
     ]
    }
   ],
   "source": [
    "print(st[1:7])"
   ]
  },
  {
   "cell_type": "code",
   "execution_count": null,
   "metadata": {
    "collapsed": false
   },
   "outputs": [
    {
     "name": "stdout",
     "output_type": "stream",
     "text": [
      "Empty DataFrame\nColumns: [UCB1T regret, TS regret, RS regret, RS OPT regret, TS gamma regret, RS gamma regret, RS OPT gamma regret, meta UCB1T regret, meta TS regret, meta RS regret, meta RS OPT regret]\nIndex: []\n"
     ]
    }
   ],
   "source": [
    "\n",
    "#いらない列の削除\n",
    "# drop_column = [\"UCB1T regret\", \"TS regret\", \"RS regret\", \"RS OPT regret\", \"TS gamma regret\", \"RS gamma regret\", \"RS OPT gamma regret\", \"meta UCB1T regret\", \"meta TS regret\", \"meta RS regret\", \"meta RS OPT regret\"]\n",
    "drop_column = [\"# UCB1T accuracy\", \"TS accuracy\", \"RS accuracy\", \"RS OPT accuracy\", \"TS gamma accuracy\", \"RS gamma accuracy\", \"RS OPT gamma accuracy\", \"meta UCB1T accuracy\", \"meta TS accuracy\", \"meta RS accuracy\", \"meta RS OPT accuracy\"]\n",
    "# drop_column = [\"UCB1T accuracy\", \"RS accuracy\", \"RS OPT accuracy\", \"RS gamma accuracy\", \"RS OPT gamma accuracy\", \"meta UCB1T accuracy\", \"meta RS accuracy\", \"meta RS OPT accuracy\"]\n",
    "st = st.drop(drop_column, axis=1)\n",
    "non_st = non_st.drop(drop_column, axis=1)\n",
    "# non_st_const = non_st_const.drop(drop_column, axis=1)\n",
    "\n",
    "print(st)\n",
    "\n",
    "#平均の計算\n",
    "# st_means = st.mean()[99900:-1]\n",
    "# non_st_means = non_st.mean()[99900:-1]\n",
    "# non_st_const_means = non_st_const.mean()[99900:-1]\n",
    "st_means = st\n",
    "non_st_means = non_st\n",
    "# non_st_const_means = non_st_const\n",
    "\n",
    "names = st.columns.values\n",
    "print(names)\n",
    "\n",
    "#グラフの描画\n",
    "\n",
    "fig = plt.figure(figsize=(8,6), dpi=100)\n",
    "\n",
    "ax = fig.add_subplot(1,1,1)\n",
    "\n",
    "labels = [\"UCB1T\", \"TS\", \"RS\", \"RS OPT\", \"TS gamma\", \"RS gamma\", \"RS OPT gamma\", \"meta UCB1T\", \"meta TS\", \"meta RS\", \"meta RS OPT\"]\n",
    "colors = [\"g\", \"b\", \"r\", \"m\", \"c\", \"#ff7f00\", \"#a65628\", \"g\", \"b\", \"r\", \"m\"]\n",
    "markers = [\"o\", \"s\", \"^\", \"v\", \"<\", \">\", \"p\", \"D\", \"x\", \"1\", \"2\"]\n",
    "# colors = [\"g\", \"g\", \"g\", \"g\", \"b\", \"b\", \"b\", \"r\", \"r\", \"r\", \"r\"]\n",
    "# markers = [\"o\", \"s\", \"^\", \"v\", \"s\", \"^\", \"v\", \"o\", \"s\", \"^\", \"v\"]\n",
    "# 非同期の点をうつ\n",
    "# for i,(x,y) in enumerate(zip(st_means , non_st_means)):\n",
    "#     #ax.annotate(names[i],(x,y))\n",
    "#     ax.annotate(\"no sync\",(x+0.001,y-0.04))\n",
    "#     plt.plot(x, y, marker=markers[i], ms=10, color=colors[i])\n",
    "\n",
    "\n",
    "# 同期の点をうって線で繋ぐ\n",
    "for i in range(len(names)):\n",
    "    x = st_means[names[i]]\n",
    "    y = non_st_means[names[i]]\n",
    "    dx = 0\n",
    "    dy = non_st_means[names[i]] - y\n",
    "    # plt.xscale(\"log\")\n",
    "    # plt.yscale(\"log\")\n",
    "    # ax.arrow(x, y, dx, dy, width=0.0001, color='black', head_length=0.0, head_width=0.0)\n",
    "    # plt.xlim([0.4, 1.0])\n",
    "    # plt.yticks([1E1, 1E2, 1E3, 1E4])\n",
    "    plt.plot(x, y, label=labels[i], marker=markers[i], ms=10, color=colors[i])\n",
    "    plt.legend(loc=\"upper right\", frameon=False)\n",
    "    # ax.annotate(\"sync\", (x+0.001, y+0.015))\n",
    "    # ax.annotate(labels[i], (x+0.001, y+0.015))\n",
    "\n",
    "# for i,(x,y) in enumerate(zip(st_means , non_st_means)):\n",
    "#     ax.annotate(\"no sync\",(x,y-0.03))\n",
    "\n",
    "plt.xlabel(\"stationary\")\n",
    "plt.ylabel(\"non_stationary\")\n",
    "plt.savefig(\"trade_off\")\n",
    "plt.show()\n"
   ]
  },
  {
   "cell_type": "code",
   "execution_count": 2,
   "metadata": {
    "collapsed": true
   },
   "outputs": [
    {
     "data": {
      "text/plain": [
       "'..'"
      ]
     },
     "execution_count": 2,
     "metadata": {},
     "output_type": "execute_result"
    }
   ],
   "source": [
    "import os\n",
    "os.pardir\n"
   ]
  },
  {
   "cell_type": "code",
   "execution_count": 4,
   "metadata": {},
   "outputs": [
    {
     "name": "stdout",
     "output_type": "stream",
     "text": [
      "getcwd:       /home/yoshida/PycharmProjects/bandit_meta\n"
     ]
    }
   ],
   "source": [
    "print('getcwd:      ', os.getcwd())"
   ]
  },
  {
   "cell_type": "code",
   "execution_count": 11,
   "metadata": {},
   "outputs": [],
   "source": [
    "st.columns\n",
    "drop_column = [\"# UCB1T accuracy\", \"TS accuracy\", \"RS accuracy\", \"RS OPT accuracy\", \"TS gamma accuracy\", \"RS gamma accuracy\", \"RS OPT gamma accuracy\", \"meta UCB1T accuracy\", \"meta TS accuracy\", \"meta RS accuracy\", \"meta RS OPT accuracy\"]\n",
    "# drop_column = [\"UCB1T accuracy\", \"RS accuracy\", \"RS OPT accuracy\", \"RS gamma accuracy\", \"RS OPT gamma accuracy\", \"meta UCB1T accuracy\", \"meta RS accuracy\", \"meta RS OPT accuracy\"]\n",
    "st = st.drop(drop_column, axis=1)"
   ]
  },
  {
   "cell_type": "code",
   "execution_count": 15,
   "metadata": {},
   "outputs": [
    {
     "name": "stdout",
     "output_type": "stream",
     "text": [
      "       UCB1T regret    TS regret    RS regret  RS OPT regret  TS gamma regret  \\\n99998   8872.664899  14270.90657  7331.311359    7522.188304      2837.461134   \n\n       RS gamma regret  RS OPT gamma regret  meta UCB1T regret  \\\n99998      1232.253905          1413.687504        2612.181488   \n\n       meta TS regret  meta RS regret  meta RS OPT regret  \n99998     1492.595752     1391.856237           927.63102  \n"
     ]
    }
   ],
   "source": [
    "print(st)"
   ]
  },
  {
   "cell_type": "code",
   "execution_count": 17,
   "metadata": {},
   "outputs": [
    {
     "name": "stdout",
     "output_type": "stream",
     "text": [
      "meta RS OPT regret\n"
     ]
    }
   ],
   "source": [
    "names = st.columns.values\n",
    "print(names[i])"
   ]
  },
  {
   "cell_type": "code",
   "execution_count": 18,
   "metadata": {},
   "outputs": [
    {
     "ename": "ValueError",
     "evalue": "could not convert string to float: 'TS regret'",
     "traceback": [
      "\u001b[0;31m---------------------------------------------------------------------------\u001b[0m",
      "\u001b[0;31mValueError\u001b[0m                                Traceback (most recent call last)",
      "\u001b[0;32m<ipython-input-18-b19a2ad68e11>\u001b[0m in \u001b[0;36m<module>\u001b[0;34m()\u001b[0m\n\u001b[0;32m----> 1\u001b[0;31m \u001b[0mplt\u001b[0m\u001b[0;34m.\u001b[0m\u001b[0mplot\u001b[0m\u001b[0;34m(\u001b[0m\u001b[0mnames\u001b[0m\u001b[0;34m[\u001b[0m\u001b[0;36m1\u001b[0m\u001b[0;34m]\u001b[0m\u001b[0;34m)\u001b[0m\u001b[0;34m\u001b[0m\u001b[0m\n\u001b[0m",
      "\u001b[0;32m/usr/local/.pyenv/versions/anaconda3-4.4.0/lib/python3.6/site-packages/matplotlib/pyplot.py\u001b[0m in \u001b[0;36mplot\u001b[0;34m(*args, **kwargs)\u001b[0m\n\u001b[1;32m   3315\u001b[0m                       mplDeprecation)\n\u001b[1;32m   3316\u001b[0m     \u001b[0;32mtry\u001b[0m\u001b[0;34m:\u001b[0m\u001b[0;34m\u001b[0m\u001b[0m\n\u001b[0;32m-> 3317\u001b[0;31m         \u001b[0mret\u001b[0m \u001b[0;34m=\u001b[0m \u001b[0max\u001b[0m\u001b[0;34m.\u001b[0m\u001b[0mplot\u001b[0m\u001b[0;34m(\u001b[0m\u001b[0;34m*\u001b[0m\u001b[0margs\u001b[0m\u001b[0;34m,\u001b[0m \u001b[0;34m**\u001b[0m\u001b[0mkwargs\u001b[0m\u001b[0;34m)\u001b[0m\u001b[0;34m\u001b[0m\u001b[0m\n\u001b[0m\u001b[1;32m   3318\u001b[0m     \u001b[0;32mfinally\u001b[0m\u001b[0;34m:\u001b[0m\u001b[0;34m\u001b[0m\u001b[0m\n\u001b[1;32m   3319\u001b[0m         \u001b[0max\u001b[0m\u001b[0;34m.\u001b[0m\u001b[0m_hold\u001b[0m \u001b[0;34m=\u001b[0m \u001b[0mwashold\u001b[0m\u001b[0;34m\u001b[0m\u001b[0m\n",
      "\u001b[0;32m/usr/local/.pyenv/versions/anaconda3-4.4.0/lib/python3.6/site-packages/matplotlib/__init__.py\u001b[0m in \u001b[0;36minner\u001b[0;34m(ax, *args, **kwargs)\u001b[0m\n\u001b[1;32m   1896\u001b[0m                     warnings.warn(msg % (label_namer, func.__name__),\n\u001b[1;32m   1897\u001b[0m                                   RuntimeWarning, stacklevel=2)\n\u001b[0;32m-> 1898\u001b[0;31m             \u001b[0;32mreturn\u001b[0m \u001b[0mfunc\u001b[0m\u001b[0;34m(\u001b[0m\u001b[0max\u001b[0m\u001b[0;34m,\u001b[0m \u001b[0;34m*\u001b[0m\u001b[0margs\u001b[0m\u001b[0;34m,\u001b[0m \u001b[0;34m**\u001b[0m\u001b[0mkwargs\u001b[0m\u001b[0;34m)\u001b[0m\u001b[0;34m\u001b[0m\u001b[0m\n\u001b[0m\u001b[1;32m   1899\u001b[0m         \u001b[0mpre_doc\u001b[0m \u001b[0;34m=\u001b[0m \u001b[0minner\u001b[0m\u001b[0;34m.\u001b[0m\u001b[0m__doc__\u001b[0m\u001b[0;34m\u001b[0m\u001b[0m\n\u001b[1;32m   1900\u001b[0m         \u001b[0;32mif\u001b[0m \u001b[0mpre_doc\u001b[0m \u001b[0;32mis\u001b[0m \u001b[0;32mNone\u001b[0m\u001b[0;34m:\u001b[0m\u001b[0;34m\u001b[0m\u001b[0m\n",
      "\u001b[0;32m/usr/local/.pyenv/versions/anaconda3-4.4.0/lib/python3.6/site-packages/matplotlib/axes/_axes.py\u001b[0m in \u001b[0;36mplot\u001b[0;34m(self, *args, **kwargs)\u001b[0m\n\u001b[1;32m   1405\u001b[0m \u001b[0;34m\u001b[0m\u001b[0m\n\u001b[1;32m   1406\u001b[0m         \u001b[0;32mfor\u001b[0m \u001b[0mline\u001b[0m \u001b[0;32min\u001b[0m \u001b[0mself\u001b[0m\u001b[0;34m.\u001b[0m\u001b[0m_get_lines\u001b[0m\u001b[0;34m(\u001b[0m\u001b[0;34m*\u001b[0m\u001b[0margs\u001b[0m\u001b[0;34m,\u001b[0m \u001b[0;34m**\u001b[0m\u001b[0mkwargs\u001b[0m\u001b[0;34m)\u001b[0m\u001b[0;34m:\u001b[0m\u001b[0;34m\u001b[0m\u001b[0m\n\u001b[0;32m-> 1407\u001b[0;31m             \u001b[0mself\u001b[0m\u001b[0;34m.\u001b[0m\u001b[0madd_line\u001b[0m\u001b[0;34m(\u001b[0m\u001b[0mline\u001b[0m\u001b[0;34m)\u001b[0m\u001b[0;34m\u001b[0m\u001b[0m\n\u001b[0m\u001b[1;32m   1408\u001b[0m             \u001b[0mlines\u001b[0m\u001b[0;34m.\u001b[0m\u001b[0mappend\u001b[0m\u001b[0;34m(\u001b[0m\u001b[0mline\u001b[0m\u001b[0;34m)\u001b[0m\u001b[0;34m\u001b[0m\u001b[0m\n\u001b[1;32m   1409\u001b[0m \u001b[0;34m\u001b[0m\u001b[0m\n",
      "\u001b[0;32m/usr/local/.pyenv/versions/anaconda3-4.4.0/lib/python3.6/site-packages/matplotlib/axes/_base.py\u001b[0m in \u001b[0;36madd_line\u001b[0;34m(self, line)\u001b[0m\n\u001b[1;32m   1791\u001b[0m             \u001b[0mline\u001b[0m\u001b[0;34m.\u001b[0m\u001b[0mset_clip_path\u001b[0m\u001b[0;34m(\u001b[0m\u001b[0mself\u001b[0m\u001b[0;34m.\u001b[0m\u001b[0mpatch\u001b[0m\u001b[0;34m)\u001b[0m\u001b[0;34m\u001b[0m\u001b[0m\n\u001b[1;32m   1792\u001b[0m \u001b[0;34m\u001b[0m\u001b[0m\n\u001b[0;32m-> 1793\u001b[0;31m         \u001b[0mself\u001b[0m\u001b[0;34m.\u001b[0m\u001b[0m_update_line_limits\u001b[0m\u001b[0;34m(\u001b[0m\u001b[0mline\u001b[0m\u001b[0;34m)\u001b[0m\u001b[0;34m\u001b[0m\u001b[0m\n\u001b[0m\u001b[1;32m   1794\u001b[0m         \u001b[0;32mif\u001b[0m \u001b[0;32mnot\u001b[0m \u001b[0mline\u001b[0m\u001b[0;34m.\u001b[0m\u001b[0mget_label\u001b[0m\u001b[0;34m(\u001b[0m\u001b[0;34m)\u001b[0m\u001b[0;34m:\u001b[0m\u001b[0;34m\u001b[0m\u001b[0m\n\u001b[1;32m   1795\u001b[0m             \u001b[0mline\u001b[0m\u001b[0;34m.\u001b[0m\u001b[0mset_label\u001b[0m\u001b[0;34m(\u001b[0m\u001b[0;34m'_line%d'\u001b[0m \u001b[0;34m%\u001b[0m \u001b[0mlen\u001b[0m\u001b[0;34m(\u001b[0m\u001b[0mself\u001b[0m\u001b[0;34m.\u001b[0m\u001b[0mlines\u001b[0m\u001b[0;34m)\u001b[0m\u001b[0;34m)\u001b[0m\u001b[0;34m\u001b[0m\u001b[0m\n",
      "\u001b[0;32m/usr/local/.pyenv/versions/anaconda3-4.4.0/lib/python3.6/site-packages/matplotlib/axes/_base.py\u001b[0m in \u001b[0;36m_update_line_limits\u001b[0;34m(self, line)\u001b[0m\n\u001b[1;32m   1813\u001b[0m         \u001b[0mFigures\u001b[0m \u001b[0mout\u001b[0m \u001b[0mthe\u001b[0m \u001b[0mdata\u001b[0m \u001b[0mlimit\u001b[0m \u001b[0mof\u001b[0m \u001b[0mthe\u001b[0m \u001b[0mgiven\u001b[0m \u001b[0mline\u001b[0m\u001b[0;34m,\u001b[0m \u001b[0mupdating\u001b[0m \u001b[0mself\u001b[0m\u001b[0;34m.\u001b[0m\u001b[0mdataLim\u001b[0m\u001b[0;34m.\u001b[0m\u001b[0;34m\u001b[0m\u001b[0m\n\u001b[1;32m   1814\u001b[0m         \"\"\"\n\u001b[0;32m-> 1815\u001b[0;31m         \u001b[0mpath\u001b[0m \u001b[0;34m=\u001b[0m \u001b[0mline\u001b[0m\u001b[0;34m.\u001b[0m\u001b[0mget_path\u001b[0m\u001b[0;34m(\u001b[0m\u001b[0;34m)\u001b[0m\u001b[0;34m\u001b[0m\u001b[0m\n\u001b[0m\u001b[1;32m   1816\u001b[0m         \u001b[0;32mif\u001b[0m \u001b[0mpath\u001b[0m\u001b[0;34m.\u001b[0m\u001b[0mvertices\u001b[0m\u001b[0;34m.\u001b[0m\u001b[0msize\u001b[0m \u001b[0;34m==\u001b[0m \u001b[0;36m0\u001b[0m\u001b[0;34m:\u001b[0m\u001b[0;34m\u001b[0m\u001b[0m\n\u001b[1;32m   1817\u001b[0m             \u001b[0;32mreturn\u001b[0m\u001b[0;34m\u001b[0m\u001b[0m\n",
      "\u001b[0;32m/usr/local/.pyenv/versions/anaconda3-4.4.0/lib/python3.6/site-packages/matplotlib/lines.py\u001b[0m in \u001b[0;36mget_path\u001b[0;34m(self)\u001b[0m\n\u001b[1;32m    987\u001b[0m         \"\"\"\n\u001b[1;32m    988\u001b[0m         \u001b[0;32mif\u001b[0m \u001b[0mself\u001b[0m\u001b[0;34m.\u001b[0m\u001b[0m_invalidy\u001b[0m \u001b[0;32mor\u001b[0m \u001b[0mself\u001b[0m\u001b[0;34m.\u001b[0m\u001b[0m_invalidx\u001b[0m\u001b[0;34m:\u001b[0m\u001b[0;34m\u001b[0m\u001b[0m\n\u001b[0;32m--> 989\u001b[0;31m             \u001b[0mself\u001b[0m\u001b[0;34m.\u001b[0m\u001b[0mrecache\u001b[0m\u001b[0;34m(\u001b[0m\u001b[0;34m)\u001b[0m\u001b[0;34m\u001b[0m\u001b[0m\n\u001b[0m\u001b[1;32m    990\u001b[0m         \u001b[0;32mreturn\u001b[0m \u001b[0mself\u001b[0m\u001b[0;34m.\u001b[0m\u001b[0m_path\u001b[0m\u001b[0;34m\u001b[0m\u001b[0m\n\u001b[1;32m    991\u001b[0m \u001b[0;34m\u001b[0m\u001b[0m\n",
      "\u001b[0;32m/usr/local/.pyenv/versions/anaconda3-4.4.0/lib/python3.6/site-packages/matplotlib/lines.py\u001b[0m in \u001b[0;36mrecache\u001b[0;34m(self, always)\u001b[0m\n\u001b[1;32m    683\u001b[0m                 \u001b[0my\u001b[0m \u001b[0;34m=\u001b[0m \u001b[0mma\u001b[0m\u001b[0;34m.\u001b[0m\u001b[0masarray\u001b[0m\u001b[0;34m(\u001b[0m\u001b[0myconv\u001b[0m\u001b[0;34m,\u001b[0m \u001b[0mnp\u001b[0m\u001b[0;34m.\u001b[0m\u001b[0mfloat_\u001b[0m\u001b[0;34m)\u001b[0m\u001b[0;34m.\u001b[0m\u001b[0mfilled\u001b[0m\u001b[0;34m(\u001b[0m\u001b[0mnp\u001b[0m\u001b[0;34m.\u001b[0m\u001b[0mnan\u001b[0m\u001b[0;34m)\u001b[0m\u001b[0;34m\u001b[0m\u001b[0m\n\u001b[1;32m    684\u001b[0m             \u001b[0;32melse\u001b[0m\u001b[0;34m:\u001b[0m\u001b[0;34m\u001b[0m\u001b[0m\n\u001b[0;32m--> 685\u001b[0;31m                 \u001b[0my\u001b[0m \u001b[0;34m=\u001b[0m \u001b[0mnp\u001b[0m\u001b[0;34m.\u001b[0m\u001b[0masarray\u001b[0m\u001b[0;34m(\u001b[0m\u001b[0myconv\u001b[0m\u001b[0;34m,\u001b[0m \u001b[0mnp\u001b[0m\u001b[0;34m.\u001b[0m\u001b[0mfloat_\u001b[0m\u001b[0;34m)\u001b[0m\u001b[0;34m\u001b[0m\u001b[0m\n\u001b[0m\u001b[1;32m    686\u001b[0m             \u001b[0my\u001b[0m \u001b[0;34m=\u001b[0m \u001b[0my\u001b[0m\u001b[0;34m.\u001b[0m\u001b[0mravel\u001b[0m\u001b[0;34m(\u001b[0m\u001b[0;34m)\u001b[0m\u001b[0;34m\u001b[0m\u001b[0m\n\u001b[1;32m    687\u001b[0m         \u001b[0;32melse\u001b[0m\u001b[0;34m:\u001b[0m\u001b[0;34m\u001b[0m\u001b[0m\n",
      "\u001b[0;32m/usr/local/.pyenv/versions/anaconda3-4.4.0/lib/python3.6/site-packages/numpy/core/numeric.py\u001b[0m in \u001b[0;36masarray\u001b[0;34m(a, dtype, order)\u001b[0m\n\u001b[1;32m    529\u001b[0m \u001b[0;34m\u001b[0m\u001b[0m\n\u001b[1;32m    530\u001b[0m     \"\"\"\n\u001b[0;32m--> 531\u001b[0;31m     \u001b[0;32mreturn\u001b[0m \u001b[0marray\u001b[0m\u001b[0;34m(\u001b[0m\u001b[0ma\u001b[0m\u001b[0;34m,\u001b[0m \u001b[0mdtype\u001b[0m\u001b[0;34m,\u001b[0m \u001b[0mcopy\u001b[0m\u001b[0;34m=\u001b[0m\u001b[0;32mFalse\u001b[0m\u001b[0;34m,\u001b[0m \u001b[0morder\u001b[0m\u001b[0;34m=\u001b[0m\u001b[0morder\u001b[0m\u001b[0;34m)\u001b[0m\u001b[0;34m\u001b[0m\u001b[0m\n\u001b[0m\u001b[1;32m    532\u001b[0m \u001b[0;34m\u001b[0m\u001b[0m\n\u001b[1;32m    533\u001b[0m \u001b[0;34m\u001b[0m\u001b[0m\n",
      "\u001b[0;31mValueError\u001b[0m: could not convert string to float: 'TS regret'"
     ],
     "output_type": "error"
    }
   ],
   "source": [
    "plt.plot(names[1])"
   ]
  },
  {
   "cell_type": "code",
   "execution_count": 20,
   "metadata": {},
   "outputs": [],
   "source": [
    "#plot_regrets_graph\n",
    "st = pd.read_csv('stationary.csv')\n",
    "non_st = pd.read_csv('non_stationary.csv')\n"
   ]
  },
  {
   "cell_type": "code",
   "execution_count": null,
   "metadata": {},
   "outputs": [],
   "source": [
    "drop_column = [\"# UCB1T accuracy\", \"TS accuracy\", \"RS accuracy\", \"RS OPT accuracy\", \"TS gamma accuracy\", \"RS gamma accuracy\", \"RS OPT gamma accuracy\", \"meta UCB1T accuracy\", \"meta TS accuracy\", \"meta RS accuracy\", \"meta RS OPT accuracy\"]\n",
    "# drop_column = [\"UCB1T accuracy\", \"RS accuracy\", \"RS OPT accuracy\", \"RS gamma accuracy\", \"RS OPT gamma accuracy\", \"meta UCB1T accuracy\", \"meta RS accuracy\", \"meta RS OPT accuracy\"]\n",
    "st = st.drop(drop_column, axis=1)\n"
   ]
  },
  {
   "cell_type": "code",
   "execution_count": 70,
   "metadata": {},
   "outputs": [
    {
     "data": {
      "text/plain": [
       "<matplotlib.text.Text at 0x7f2e1ef475c0>"
      ]
     },
     "execution_count": 70,
     "metadata": {},
     "output_type": "execute_result"
    }
   ],
   "source": [
    "\n"
   ]
  },
  {
   "cell_type": "code",
   "execution_count": 2,
   "metadata": {},
   "outputs": [],
   "source": [
    ""
   ]
  },
  {
   "cell_type": "code",
   "execution_count": 58,
   "metadata": {},
   "outputs": [],
   "source": [
    "\n"
   ]
  },
  {
   "cell_type": "code",
   "execution_count": 2,
   "metadata": {
    "collapsed": false
   },
   "outputs": [
    {
     "name": "stdout",
     "output_type": "stream",
     "text": [
      "('nonstationary_', 'constant_')\n['UCB1T' 'TS' 'RS_gamma' 'RS_OPT' 'TS_gamma' 'RS_gamma2' 'RS_OPT_gamma'\n 'meta_UCB1T' 'meta_TS' 'meta_RS_gamma' 'meta_RS_OPT']\n"
     ]
    },
    {
     "name": "stdout",
     "output_type": "stream",
     "text": [
      "nonstationary_\n"
     ]
    },
    {
     "name": "stdout",
     "output_type": "stream",
     "text": [
      "('nonstationary_', 'nonconstant_')\n['UCB1T' 'TS' 'RS_gamma' 'RS_OPT' 'TS_gamma' 'RS_gamma2' 'RS_OPT_gamma'\n 'meta_UCB1T' 'meta_TS' 'meta_RS_gamma' 'meta_RS_OPT']\n"
     ]
    },
    {
     "name": "stdout",
     "output_type": "stream",
     "text": [
      "nonstationary_\n"
     ]
    },
    {
     "name": "stdout",
     "output_type": "stream",
     "text": [
      "('stationary_', 'constant_')\n['UCB1T' 'TS' 'RS_gamma' 'RS_OPT' 'TS_gamma' 'RS_gamma2' 'RS_OPT_gamma'\n 'meta_UCB1T' 'meta_TS' 'meta_RS_gamma' 'meta_RS_OPT']\n"
     ]
    },
    {
     "name": "stdout",
     "output_type": "stream",
     "text": [
      "stationary_\n"
     ]
    }
   ],
   "source": [
    "\n",
    "import pandas as pd\n",
    "import itertools\n",
    "import matplotlib\n",
    "#matplotlib.use('Agg')\n",
    "import matplotlib.pyplot as plt\n",
    "plt.figure(figsize=(20, 15), dpi=50)\n",
    "plt.ylabel('Regret')\n",
    "\n",
    "str1 = ['nonstationary_', 'stationary_']\n",
    "str2 = ['constant_', 'nonconstant_']\n",
    "#pd.read_csv('csv/nonstationary')\n",
    "\n",
    "\n",
    "for strx in list(itertools.product(str1, str2)):\n",
    "    \n",
    "    st = pd.read_csv('csv/'+strx[0]+strx[1]+'regrets.csv')\n",
    "    # plt.xlabel('steps')\n",
    "    # plt.ylabel('regret')\n",
    "    # # plt.xscale(\"log\")\n",
    "    # for i, graph in enumerate(regrets):\n",
    "    #     plt.plot(graph, label=labels[i], color=colors[i])\n",
    "    # plt.legend(loc=\"best\")\n",
    "    # plt.savefig(\"stationary_regret\")\n",
    "    \n",
    "\n",
    "\n",
    "labels = [\"UCB1T\", \"TS\", \"RS\", \"RS OPT\", \"TS gamma\", \"RS gamma\", \"RS OPT gamma\", \"meta UCB1T\", \"meta TS\", \"meta RS\", \"meta RS OPT\"]\n",
    "colors = [\"g\", \"b\", \"r\", \"m\", \"c\", \"#ff7f00\", \"#a65628\", \"g\", \"b\", \"r\", \"m\"]\n",
    "markers = [\"o\", \"s\", \"^\", \"v\", \"<\", \">\", \"p\", \"D\", \"x\", \"1\", \"2\"]\n",
    "\n",
    "stflag = [('nonstationary_', 'constant_'), ('nonstationary_', 'nonconstant_'),\n",
    "          ('stationary_',  'constant_')]\n",
    "#plt.clf()\n",
    "#for i in list(itertools.product(str1, str2)):\n",
    "for i in stflag:\n",
    "    print(i)\n",
    "    st = pd.read_csv('csv/'+i[0]+i[1]+'regrets.csv')\n",
    "    names = st.columns.values[1:]\n",
    "    print(names)\n",
    "    for x, name in enumerate(names):\n",
    "        \n",
    "        if i[0] == 'stationary_':\n",
    "            plt.ylim(-10, 600)\n",
    "        else:\n",
    "            plt.ylim(-10, 3000)\n",
    "        plt.plot(st[name], ls = '--', label=name, marker=markers[x],\n",
    "                 markevery=4000, color=colors[x])\n",
    "    plt.ylabel('Regret')\n",
    "    plt.ylabel('Step')\n",
    "    plt.legend()\n",
    "    print(i[0])\n",
    "    plt.savefig('rsssssegrets')\n",
    "    #plt.savefig('csv/'+i[0]+i[1]+'regrets')\n",
    "    plt.cla()\n",
    "    #plt.show()\n",
    "    \n",
    "# for i in list(itertools.product(str1, str2)):\n",
    "#     print(i)\n",
    "#     st = pd.read_csv('csv/'+i[0]+i[1]+'regrets.csv')\n",
    "#     names = st.columns.values[1:]\n",
    "#     print(names)\n",
    "#     for x, name in enumerate(names):\n",
    "#         plt.ylim(-10, 3000)\n",
    "#         plt.plot(st[name], ls = '--', label=name, marker=markers[x],\n",
    "#                  markevery=4000, color=colors[x])\n",
    "#     plt.legend()\n",
    "#     print(i[0])\n",
    "#     #plt.savefig('csv/'+i[0]+i[1]+'regrets.png')\n",
    "#     plt.show()"
   ]
  },
  {
   "cell_type": "code",
   "execution_count": null,
   "metadata": {},
   "outputs": [
    {
     "data": {
      "text/plain": [
       "array(['UCB1T', 'TS', 'RS_gamma', 'RS_OPT', 'TS_gamma', 'RS_gamma2',\n       'RS_OPT_gamma', 'meta_UCB1T', 'meta_TS', 'meta_RS_gamma'], dtype=object)"
      ]
     },
     "execution_count": 24,
     "metadata": {},
     "output_type": "execute_result"
    }
   ],
   "source": [
    "labels = [\"UCB1T\", \"TS\", \"RS\", \"RS OPT\", \"TS gamma\", \"RS gamma\", \"RS OPT gamma\", \"meta UCB1T\", \"meta TS\", \"meta RS\", \"meta RS OPT\"]\n",
    "colors = [\"g\", \"b\", \"r\", \"m\", \"c\", \"#ff7f00\", \"#a65628\", \"g\", \"b\", \"r\", \"m\"]\n",
    "markers = [\"o\", \"s\", \"^\", \"v\", \"<\", \">\", \"p\", \"D\", \"x\", \"1\", \"2\"]\n"
   ]
  },
  {
   "cell_type": "code",
   "execution_count": 22,
   "metadata": {},
   "outputs": [
    {
     "data": {
      "text/plain": [
       "array(['UCB1T', 'TS', 'RS_gamma', 'RS_OPT', 'TS_gamma', 'RS_gamma2',\n       'RS_OPT_gamma', 'meta_UCB1T', 'meta_TS', 'meta_RS_gamma'], dtype=object)"
      ]
     },
     "execution_count": 24,
     "metadata": {},
     "output_type": "execute_result"
    }
   ],
   "source": [
    "\n"
   ]
  },
  {
   "cell_type": "code",
   "execution_count": 24,
   "metadata": {},
   "outputs": [
    {
     "data": {
      "text/plain": [
       "array(['UCB1T', 'TS', 'RS_gamma', 'RS_OPT', 'TS_gamma', 'RS_gamma2',\n       'RS_OPT_gamma', 'meta_UCB1T', 'meta_TS', 'meta_RS_gamma'], dtype=object)"
      ]
     },
     "execution_count": 24,
     "metadata": {},
     "output_type": "execute_result"
    }
   ],
   "source": [
    "st.columns.values[1:-1]"
   ]
  },
  {
   "cell_type": "code",
   "execution_count": 7,
   "metadata": {
    "collapsed": false
   },
   "outputs": [
    {
     "data": {
      "image/png": "[encoded data removed]",
      "text/plain": [
       "<matplotlib.figure.Figure at 0x7fd17c149e10>"
      ]
     },
     "metadata": {},
     "output_type": "display_data"
    }
   ],
   "source": [
    "%matplotlib inline\n",
    "\n",
    "#import numpy as np\n",
    "#matplotlib.use('Agg') # -----(1)\n",
    "import matplotlib.pyplot as plt\n",
    "plt.plot([1,1,1,100])\n",
    "plt.savefig('asss.png', bbox_inches='tight')\n",
    "#plt.show()"
   ]
  },
  {
   "cell_type": "code",
   "execution_count": 8,
   "metadata": {},
   "outputs": [
    {
     "ename": "ModuleNotFoundError",
     "evalue": "No module named 'google.colab'",
     "traceback": [
      "\u001b[0;31m---------------------------------------------------------------------------\u001b[0m",
      "\u001b[0;31mModuleNotFoundError\u001b[0m                       Traceback (most recent call last)",
      "\u001b[0;32m<ipython-input-8-0a7b54f46ee1>\u001b[0m in \u001b[0;36m<module>\u001b[0;34m()\u001b[0m\n\u001b[0;32m----> 1\u001b[0;31m \u001b[0;32mfrom\u001b[0m \u001b[0mgoogle\u001b[0m\u001b[0;34m.\u001b[0m\u001b[0mcolab\u001b[0m \u001b[0;32mimport\u001b[0m \u001b[0mfiles\u001b[0m\u001b[0;34m\u001b[0m\u001b[0m\n\u001b[0m\u001b[1;32m      2\u001b[0m \u001b[0mfiles\u001b[0m\u001b[0;34m.\u001b[0m\u001b[0mdownload\u001b[0m\u001b[0;34m(\u001b[0m\u001b[0;34m\"asss.png\"\u001b[0m\u001b[0;34m)\u001b[0m\u001b[0;34m\u001b[0m\u001b[0m\n",
      "\u001b[0;31mModuleNotFoundError\u001b[0m: No module named 'google.colab'"
     ],
     "output_type": "error"
    }
   ],
   "source": [
    "from google.colab import files\n",
    "files.download(\"asss.png\") "
   ]
  },
  {
   "cell_type": "code",
   "execution_count": null,
   "metadata": {},
   "outputs": [],
   "source": []
  }
 ],
 "metadata": {
  "kernelspec": {
   "display_name": "Python 2",
   "language": "python",
   "name": "python2"
  },
  "language_info": {
   "codemirror_mode": {
    "name": "ipython",
    "version": 2
   },
   "file_extension": ".py",
   "mimetype": "text/x-python",
   "name": "python",
   "nbconvert_exporter": "python",
   "pygments_lexer": "ipython2",
   "version": "2.7.6"
  }
 },
 "nbformat": 4,
 "nbformat_minor": 0
}
